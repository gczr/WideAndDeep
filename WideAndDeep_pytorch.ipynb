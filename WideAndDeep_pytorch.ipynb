{
 "cells": [
  {
   "cell_type": "code",
   "execution_count": 1,
   "id": "incorrect-following",
   "metadata": {},
   "outputs": [],
   "source": [
    "import numpy as np\n",
    "import pandas as pd\n",
    "import torch\n",
    "from WideAndDeep_pytorch.wide_deep import WideAndDeepModel\n",
    "from WideAndDeep_pytorch.avazu import AvazuDataset\n",
    "from WideAndDeep_pytorch.train import train,test,EarlyStopper\n",
    "from torch.utils.data import DataLoader\n",
    "from IPython.core.interactiveshell import  InteractiveShell\n",
    "InteractiveShell.ast_node_interactivity='all'\n",
    "pd.set_option('max_columns',600)\n",
    "pd.set_option('max_rows',500)"
   ]
  },
  {
   "cell_type": "markdown",
   "id": "continent-sydney",
   "metadata": {},
   "source": [
    "### 获取数据集与模型"
   ]
  },
  {
   "cell_type": "code",
   "execution_count": 2,
   "id": "printable-lewis",
   "metadata": {},
   "outputs": [
    {
     "name": "stdout",
     "output_type": "stream",
     "text": [
      "打印deep部分的模型架构:\n",
      "Sequential(\n",
      "  (0): Linear(in_features=352, out_features=16, bias=True)\n",
      "  (1): BatchNorm1d(16, eps=1e-05, momentum=0.1, affine=True, track_running_stats=True)\n",
      "  (2): ReLU()\n",
      "  (3): Dropout(p=0.2, inplace=False)\n",
      "  (4): Linear(in_features=16, out_features=16, bias=True)\n",
      "  (5): BatchNorm1d(16, eps=1e-05, momentum=0.1, affine=True, track_running_stats=True)\n",
      "  (6): ReLU()\n",
      "  (7): Dropout(p=0.2, inplace=False)\n",
      "  (8): Linear(in_features=16, out_features=1, bias=True)\n",
      ")\n"
     ]
    }
   ],
   "source": [
    "#先读100w个存成csv，再用AvazuDataset加载\n",
    "# df=pd.read_csv('./data/train.gz',compression='gzip',nrows=1000000)\n",
    "# df.to_csv('./data/train.csv',index=False)\n",
    "dataset=AvazuDataset('./data/train.csv',rebuild_cache=False)\n",
    "model=WideAndDeepModel(dataset.field_dims, embed_dim=16,mlp_dims=(16, 16), dropout=0.2)"
   ]
  },
  {
   "cell_type": "code",
   "execution_count": 10,
   "id": "bound-commercial",
   "metadata": {},
   "outputs": [
    {
     "data": {
      "text/html": [
       "<div>\n",
       "<style scoped>\n",
       "    .dataframe tbody tr th:only-of-type {\n",
       "        vertical-align: middle;\n",
       "    }\n",
       "\n",
       "    .dataframe tbody tr th {\n",
       "        vertical-align: top;\n",
       "    }\n",
       "\n",
       "    .dataframe thead th {\n",
       "        text-align: right;\n",
       "    }\n",
       "</style>\n",
       "<table border=\"1\" class=\"dataframe\">\n",
       "  <thead>\n",
       "    <tr style=\"text-align: right;\">\n",
       "      <th></th>\n",
       "      <th>id</th>\n",
       "      <th>click</th>\n",
       "      <th>hour</th>\n",
       "      <th>C1</th>\n",
       "      <th>banner_pos</th>\n",
       "      <th>site_id</th>\n",
       "      <th>site_domain</th>\n",
       "      <th>site_category</th>\n",
       "      <th>app_id</th>\n",
       "      <th>app_domain</th>\n",
       "      <th>app_category</th>\n",
       "      <th>device_id</th>\n",
       "      <th>device_ip</th>\n",
       "      <th>device_model</th>\n",
       "      <th>device_type</th>\n",
       "      <th>device_conn_type</th>\n",
       "      <th>C14</th>\n",
       "      <th>C15</th>\n",
       "      <th>C16</th>\n",
       "      <th>C17</th>\n",
       "      <th>C18</th>\n",
       "      <th>C19</th>\n",
       "      <th>C20</th>\n",
       "      <th>C21</th>\n",
       "    </tr>\n",
       "  </thead>\n",
       "  <tbody>\n",
       "    <tr>\n",
       "      <th>0</th>\n",
       "      <td>1.000009e+18</td>\n",
       "      <td>0</td>\n",
       "      <td>14102100</td>\n",
       "      <td>1005</td>\n",
       "      <td>0</td>\n",
       "      <td>1fbe01fe</td>\n",
       "      <td>f3845767</td>\n",
       "      <td>28905ebd</td>\n",
       "      <td>ecad2386</td>\n",
       "      <td>7801e8d9</td>\n",
       "      <td>07d7df22</td>\n",
       "      <td>a99f214a</td>\n",
       "      <td>ddd2926e</td>\n",
       "      <td>44956a24</td>\n",
       "      <td>1</td>\n",
       "      <td>2</td>\n",
       "      <td>15706</td>\n",
       "      <td>320</td>\n",
       "      <td>50</td>\n",
       "      <td>1722</td>\n",
       "      <td>0</td>\n",
       "      <td>35</td>\n",
       "      <td>-1</td>\n",
       "      <td>79</td>\n",
       "    </tr>\n",
       "    <tr>\n",
       "      <th>1</th>\n",
       "      <td>1.000017e+19</td>\n",
       "      <td>0</td>\n",
       "      <td>14102100</td>\n",
       "      <td>1005</td>\n",
       "      <td>0</td>\n",
       "      <td>1fbe01fe</td>\n",
       "      <td>f3845767</td>\n",
       "      <td>28905ebd</td>\n",
       "      <td>ecad2386</td>\n",
       "      <td>7801e8d9</td>\n",
       "      <td>07d7df22</td>\n",
       "      <td>a99f214a</td>\n",
       "      <td>96809ac8</td>\n",
       "      <td>711ee120</td>\n",
       "      <td>1</td>\n",
       "      <td>0</td>\n",
       "      <td>15704</td>\n",
       "      <td>320</td>\n",
       "      <td>50</td>\n",
       "      <td>1722</td>\n",
       "      <td>0</td>\n",
       "      <td>35</td>\n",
       "      <td>100084</td>\n",
       "      <td>79</td>\n",
       "    </tr>\n",
       "    <tr>\n",
       "      <th>2</th>\n",
       "      <td>1.000037e+19</td>\n",
       "      <td>0</td>\n",
       "      <td>14102100</td>\n",
       "      <td>1005</td>\n",
       "      <td>0</td>\n",
       "      <td>1fbe01fe</td>\n",
       "      <td>f3845767</td>\n",
       "      <td>28905ebd</td>\n",
       "      <td>ecad2386</td>\n",
       "      <td>7801e8d9</td>\n",
       "      <td>07d7df22</td>\n",
       "      <td>a99f214a</td>\n",
       "      <td>b3cf8def</td>\n",
       "      <td>8a4875bd</td>\n",
       "      <td>1</td>\n",
       "      <td>0</td>\n",
       "      <td>15704</td>\n",
       "      <td>320</td>\n",
       "      <td>50</td>\n",
       "      <td>1722</td>\n",
       "      <td>0</td>\n",
       "      <td>35</td>\n",
       "      <td>100084</td>\n",
       "      <td>79</td>\n",
       "    </tr>\n",
       "    <tr>\n",
       "      <th>3</th>\n",
       "      <td>1.000064e+19</td>\n",
       "      <td>0</td>\n",
       "      <td>14102100</td>\n",
       "      <td>1005</td>\n",
       "      <td>0</td>\n",
       "      <td>1fbe01fe</td>\n",
       "      <td>f3845767</td>\n",
       "      <td>28905ebd</td>\n",
       "      <td>ecad2386</td>\n",
       "      <td>7801e8d9</td>\n",
       "      <td>07d7df22</td>\n",
       "      <td>a99f214a</td>\n",
       "      <td>e8275b8f</td>\n",
       "      <td>6332421a</td>\n",
       "      <td>1</td>\n",
       "      <td>0</td>\n",
       "      <td>15706</td>\n",
       "      <td>320</td>\n",
       "      <td>50</td>\n",
       "      <td>1722</td>\n",
       "      <td>0</td>\n",
       "      <td>35</td>\n",
       "      <td>100084</td>\n",
       "      <td>79</td>\n",
       "    </tr>\n",
       "    <tr>\n",
       "      <th>4</th>\n",
       "      <td>1.000068e+19</td>\n",
       "      <td>0</td>\n",
       "      <td>14102100</td>\n",
       "      <td>1005</td>\n",
       "      <td>1</td>\n",
       "      <td>fe8cc448</td>\n",
       "      <td>9166c161</td>\n",
       "      <td>0569f928</td>\n",
       "      <td>ecad2386</td>\n",
       "      <td>7801e8d9</td>\n",
       "      <td>07d7df22</td>\n",
       "      <td>a99f214a</td>\n",
       "      <td>9644d0bf</td>\n",
       "      <td>779d90c2</td>\n",
       "      <td>1</td>\n",
       "      <td>0</td>\n",
       "      <td>18993</td>\n",
       "      <td>320</td>\n",
       "      <td>50</td>\n",
       "      <td>2161</td>\n",
       "      <td>0</td>\n",
       "      <td>35</td>\n",
       "      <td>-1</td>\n",
       "      <td>157</td>\n",
       "    </tr>\n",
       "  </tbody>\n",
       "</table>\n",
       "</div>"
      ],
      "text/plain": [
       "             id  click      hour    C1  banner_pos   site_id site_domain  \\\n",
       "0  1.000009e+18      0  14102100  1005           0  1fbe01fe    f3845767   \n",
       "1  1.000017e+19      0  14102100  1005           0  1fbe01fe    f3845767   \n",
       "2  1.000037e+19      0  14102100  1005           0  1fbe01fe    f3845767   \n",
       "3  1.000064e+19      0  14102100  1005           0  1fbe01fe    f3845767   \n",
       "4  1.000068e+19      0  14102100  1005           1  fe8cc448    9166c161   \n",
       "\n",
       "  site_category    app_id app_domain app_category device_id device_ip  \\\n",
       "0      28905ebd  ecad2386   7801e8d9     07d7df22  a99f214a  ddd2926e   \n",
       "1      28905ebd  ecad2386   7801e8d9     07d7df22  a99f214a  96809ac8   \n",
       "2      28905ebd  ecad2386   7801e8d9     07d7df22  a99f214a  b3cf8def   \n",
       "3      28905ebd  ecad2386   7801e8d9     07d7df22  a99f214a  e8275b8f   \n",
       "4      0569f928  ecad2386   7801e8d9     07d7df22  a99f214a  9644d0bf   \n",
       "\n",
       "  device_model  device_type  device_conn_type    C14  C15  C16   C17  C18  \\\n",
       "0     44956a24            1                 2  15706  320   50  1722    0   \n",
       "1     711ee120            1                 0  15704  320   50  1722    0   \n",
       "2     8a4875bd            1                 0  15704  320   50  1722    0   \n",
       "3     6332421a            1                 0  15706  320   50  1722    0   \n",
       "4     779d90c2            1                 0  18993  320   50  2161    0   \n",
       "\n",
       "   C19     C20  C21  \n",
       "0   35      -1   79  \n",
       "1   35  100084   79  \n",
       "2   35  100084   79  \n",
       "3   35  100084   79  \n",
       "4   35      -1  157  "
      ]
     },
     "execution_count": 10,
     "metadata": {},
     "output_type": "execute_result"
    }
   ],
   "source": [
    "df.head()"
   ]
  },
  {
   "cell_type": "markdown",
   "id": "departmental-local",
   "metadata": {},
   "source": [
    "### 数据集拆分并用DataLoader加载"
   ]
  },
  {
   "cell_type": "code",
   "execution_count": 3,
   "id": "electric-brooklyn",
   "metadata": {},
   "outputs": [],
   "source": [
    "#按8:1:1比例拆分为训练集、验证集、测试集\n",
    "train_length = int(len(dataset) * 0.8)\n",
    "valid_length = int(len(dataset) * 0.1)\n",
    "test_length = len(dataset) - train_length - valid_length\n",
    "train_dataset, valid_dataset, test_dataset = torch.utils.data.random_split(\n",
    "    dataset, (train_length, valid_length, test_length))\n",
    "\n",
    "#利用DataLoader加载，每个batch_size=256，num_workers表示可以多线程处理，里面包含了yield机制\n",
    "train_data_loader = DataLoader(train_dataset, batch_size=256, num_workers=0)\n",
    "valid_data_loader = DataLoader(valid_dataset, batch_size=256, num_workers=0)\n",
    "test_data_loader = DataLoader(test_dataset, batch_size=256, num_workers=0)"
   ]
  },
  {
   "cell_type": "markdown",
   "id": "hungarian-maximum",
   "metadata": {},
   "source": [
    "### 开始训练模型"
   ]
  },
  {
   "cell_type": "code",
   "execution_count": 4,
   "id": "deadly-nirvana",
   "metadata": {},
   "outputs": [
    {
     "name": "stderr",
     "output_type": "stream",
     "text": [
      "100%|██████████████████████████████████████████████████████████████████| 3125/3125 [02:44<00:00, 19.02it/s, loss=0.407]\n",
      "100%|█████████████████████████████████████████████████████████████████████████████| 3125/3125 [00:12<00:00, 254.76it/s]\n",
      "100%|███████████████████████████████████████████████████████████████████████████████| 391/391 [00:01<00:00, 260.57it/s]\n",
      "100%|███████████████████████████████████████████████████████████████████████████████| 391/391 [00:01<00:00, 255.06it/s]\n",
      "  0%|                                                                                         | 0/3125 [00:00<?, ?it/s]"
     ]
    },
    {
     "name": "stdout",
     "output_type": "stream",
     "text": [
      "第0个epoch结束：\n",
      "训练集AUC:0.8042512026999078\n",
      "验证集AUC:0.7592977266605292\n",
      "测试集AUC:0.7620804385427883\n"
     ]
    },
    {
     "name": "stderr",
     "output_type": "stream",
     "text": [
      "100%|██████████████████████████████████████████████████████████████████| 3125/3125 [02:48<00:00, 18.49it/s, loss=0.375]\n",
      "100%|█████████████████████████████████████████████████████████████████████████████| 3125/3125 [00:12<00:00, 250.59it/s]\n",
      "100%|███████████████████████████████████████████████████████████████████████████████| 391/391 [00:01<00:00, 247.10it/s]\n",
      "100%|███████████████████████████████████████████████████████████████████████████████| 391/391 [00:01<00:00, 247.17it/s]\n",
      "  0%|                                                                                         | 0/3125 [00:00<?, ?it/s]"
     ]
    },
    {
     "name": "stdout",
     "output_type": "stream",
     "text": [
      "第1个epoch结束：\n",
      "训练集AUC:0.8317456099809597\n",
      "验证集AUC:0.7659468827502861\n",
      "测试集AUC:0.7689926439285815\n"
     ]
    },
    {
     "name": "stderr",
     "output_type": "stream",
     "text": [
      "100%|███████████████████████████████████████████████████████████████████| 3125/3125 [02:50<00:00, 18.34it/s, loss=0.35]\n",
      "100%|█████████████████████████████████████████████████████████████████████████████| 3125/3125 [00:12<00:00, 244.72it/s]\n",
      "100%|███████████████████████████████████████████████████████████████████████████████| 391/391 [00:01<00:00, 256.60it/s]\n",
      "100%|███████████████████████████████████████████████████████████████████████████████| 391/391 [00:01<00:00, 247.85it/s]\n",
      "  0%|                                                                                         | 0/3125 [00:00<?, ?it/s]"
     ]
    },
    {
     "name": "stdout",
     "output_type": "stream",
     "text": [
      "第2个epoch结束：\n",
      "训练集AUC:0.8369985987101622\n",
      "验证集AUC:0.7626352457105574\n",
      "测试集AUC:0.7650528218826029\n"
     ]
    },
    {
     "name": "stderr",
     "output_type": "stream",
     "text": [
      "100%|██████████████████████████████████████████████████████████████████| 3125/3125 [02:51<00:00, 18.26it/s, loss=0.339]\n",
      "100%|█████████████████████████████████████████████████████████████████████████████| 3125/3125 [00:12<00:00, 240.85it/s]\n",
      "100%|███████████████████████████████████████████████████████████████████████████████| 391/391 [00:01<00:00, 246.81it/s]\n",
      "100%|███████████████████████████████████████████████████████████████████████████████| 391/391 [00:01<00:00, 237.20it/s]"
     ]
    },
    {
     "name": "stdout",
     "output_type": "stream",
     "text": [
      "第3个epoch结束：\n",
      "训练集AUC:0.8351362270370601\n",
      "验证集AUC:0.7594660354036955\n",
      "测试集AUC:0.7614059529112722\n",
      "验证集上AUC的最高值是:0.7659468827502861\n"
     ]
    },
    {
     "name": "stderr",
     "output_type": "stream",
     "text": [
      "\n"
     ]
    }
   ],
   "source": [
    "criterion = torch.nn.BCELoss()\n",
    "optimizer = torch.optim.Adam(params=model.parameters(), lr=0.001, weight_decay=0.000001)\n",
    "#num_trials:表示尝试num_trials次后，如果没有提升就提前终止训练\n",
    "#save_path：表示每次最优模型的存放路径\n",
    "early_stopper = EarlyStopper(num_trials=2, save_path='result/wd_model_001.pt')\n",
    "#开始训练\n",
    "for epoch_i in range(100):\n",
    "    train(model, optimizer, train_data_loader, criterion, device=None)\n",
    "    auc_train = test(model, train_data_loader, device=None)\n",
    "    auc_valid = test(model, valid_data_loader, device=None)\n",
    "    auc_test = test(model, test_data_loader, device=None)\n",
    "    print('第{}个epoch结束：'.format(epoch_i))\n",
    "    print('训练集AUC:{}'.format(auc_train))\n",
    "    print('验证集AUC:{}'.format(auc_valid))\n",
    "    print('测试集AUC:{}'.format(auc_test))\n",
    "    if not early_stopper.is_continuable(model, auc_valid):\n",
    "        print('验证集上AUC的最高值是:{}'.format(early_stopper.best_accuracy))\n",
    "        break"
   ]
  }
 ],
 "metadata": {
  "kernelspec": {
   "display_name": "Python 3",
   "language": "python",
   "name": "python3"
  },
  "language_info": {
   "codemirror_mode": {
    "name": "ipython",
    "version": 3
   },
   "file_extension": ".py",
   "mimetype": "text/x-python",
   "name": "python",
   "nbconvert_exporter": "python",
   "pygments_lexer": "ipython3",
   "version": "3.6.12"
  }
 },
 "nbformat": 4,
 "nbformat_minor": 5
}
